{
 "cells": [
  {
   "cell_type": "code",
   "execution_count": 22,
   "metadata": {},
   "outputs": [],
   "source": [
    "import tkinter as tk\n",
    "import nltk\n",
    "from textblob import TextBlob\n",
    "from newspaper import Article\n",
    "from os import listdir\n",
    "import string\n",
    "from pickle import dump, load\n",
    "import pandas as pd\n",
    "import numpy as np\n",
    "import re\n",
    "import matplotlib.pyplot as plt\n",
    "import seaborn as sns\n",
    "import plotly.express as px"
   ]
  },
  {
   "cell_type": "code",
   "execution_count": 23,
   "metadata": {},
   "outputs": [],
   "source": [
    "DATA_PATH= 'CNNLinks.csv'"
   ]
  },
  {
   "cell_type": "code",
   "execution_count": 24,
   "metadata": {},
   "outputs": [],
   "source": [
    "class Load_data:\n",
    "    def __init__(self, dir_path, seed=0):\n",
    "        self.dir_path = dir_path\n",
    "        np.random.seed(seed)\n",
    "        \n",
    "    def load(self):\n",
    "        data = pd.read_csv(self.dir_path)\n",
    "        return data\n",
    "    \n",
    "    def drop(self):\n",
    "        data = self.load()\n",
    "        data = data.drop(columns=[\"Id\",\"Author\", \"Date\"])\n",
    "        \n",
    "        return data\n",
    "    \n",
    "    def analyze_data(self):\n",
    "        data = self.drop()\n",
    "\n",
    "        for sr_no, url in enumerate(data['URL']):\n",
    "            article = Article(url)\n",
    "            article.download()\n",
    "            article.parse()\n",
    "            article.nlp()\n",
    "            analysis = TextBlob(article.text)\n",
    "            print(f'Title: {article.title}')\n",
    "            print(f'Summary: {article.summary}')\n",
    "            print('-----------------------------------------------')\n",
    "\n",
    "    def sentiment(self):\n",
    "        data = self.drop()\n",
    "        \n",
    "        for sr_no, url in enumerate(data['URL']):\n",
    "            article = Article(url)\n",
    "            article.download()\n",
    "            article.parse()\n",
    "            article.nlp()\n",
    "            analysis=TextBlob(article.text)\n",
    "            print(analysis.sentiment)\n",
    "            print(analysis.polarity)\n",
    "            print(f'Polarity: {\"positive\" if analysis.polarity>0 else \"negative\" if analysis.polarity<0 else \"neutral\"}')\n",
    "            print(f'Subjectivity: {\"Biased And Less Factual\" if 1 >= analysis.subjectivity > 0.4 else \"Unbiased And More Factual\" if 0.4 >= analysis.subjectivity >= 0 else \"Invalid subjectivity score\"}')\n",
    "            print('-----------------------------------------------')\n",
    "\n",
    "    # def sentiment_EDA(self):\n",
    "    #     data = self.drop()\n",
    "    #     sentiment_data = []\n",
    "    #     for sr_no, url in enumerate(data['URL']):\n",
    "    #         article = Article(url)\n",
    "    #         article.download()\n",
    "    #         article.parse()\n",
    "    #         article.nlp()\n",
    "    #         analysis = TextBlob(article.text)\n",
    "    #         sentiment = [\n",
    "    #             analysis.polarity,\n",
    "    #             analysis.subjectivity,\n",
    "    #             1 if analysis.polarity > 0 else -1  # Map 'positive' to 1, 'negative' to -1\n",
    "    #         ]\n",
    "    #         sentiment_data.append(sentiment)\n",
    "    #     self.sentiment_data = pd.DataFrame(sentiment_data, columns=['Polarity', 'Subjectivity', 'Sentiment'])\n",
    "    #     return self.sentiment_data\n",
    "    # def sentiment_EDA(self):\n",
    "    #     data = self.drop()\n",
    "    #     sentiment_data = []\n",
    "    #     for sr_no, url in enumerate(data['URL']):\n",
    "    #         article = Article(url)  # Assuming Article class exists\n",
    "    #         try:\n",
    "    #             article.download()\n",
    "    #             article.parse()\n",
    "    #             article.nlp()\n",
    "    #         except Exception as e:  # Handle potential errors during processing\n",
    "    #             print(f\"Error processing article {url}: {e}\")\n",
    "    #             continue  # Skip to next article if processing fails\n",
    "\n",
    "    #         analysis = TextBlob(article.text)\n",
    "    #         sentiment = [\n",
    "    #             analysis.polarity,\n",
    "    #             analysis.subjectivity,\n",
    "    #             1 if analysis.polarity > 0 else -1  # Map positive to 1, negative to -1\n",
    "    #         ]\n",
    "    #         sentiment_data.append(sentiment)\n",
    "\n",
    "    #     self.sentiment_data = pd.DataFrame(sentiment_data, columns=['Polarity', 'Subjectivity', 'Sentiment'])\n",
    "    #     return self.sentiment_data\n",
    "    def sentiment_EDA(self):\n",
    "        data = self.drop()\n",
    "        sentiment_data = []\n",
    "        for sr_no, url in enumerate(data['URL']):\n",
    "            article = Article(url)\n",
    "            article.download()\n",
    "            article.parse()\n",
    "            article.nlp()\n",
    "            analysis = TextBlob(article.text)\n",
    "            sentiment = [\n",
    "                analysis.polarity,\n",
    "                analysis.subjectivity,\n",
    "            ]\n",
    "            sentiment_data.append(sentiment)\n",
    "        self.sentiment_data = pd.DataFrame(sentiment_data, columns=['Polarity', 'Subjectivity'])\n",
    "        return self.sentiment_data"
   ]
  },
  {
   "cell_type": "code",
   "execution_count": 25,
   "metadata": {},
   "outputs": [],
   "source": [
    "obj= Load_data(DATA_PATH, seed= 1)"
   ]
  },
  {
   "cell_type": "code",
   "execution_count": 26,
   "metadata": {},
   "outputs": [
    {
     "data": {
      "text/html": [
       "<div>\n",
       "<style scoped>\n",
       "    .dataframe tbody tr th:only-of-type {\n",
       "        vertical-align: middle;\n",
       "    }\n",
       "\n",
       "    .dataframe tbody tr th {\n",
       "        vertical-align: top;\n",
       "    }\n",
       "\n",
       "    .dataframe thead th {\n",
       "        text-align: right;\n",
       "    }\n",
       "</style>\n",
       "<table border=\"1\" class=\"dataframe\">\n",
       "  <thead>\n",
       "    <tr style=\"text-align: right;\">\n",
       "      <th></th>\n",
       "      <th>Id</th>\n",
       "      <th>Author</th>\n",
       "      <th>Date</th>\n",
       "      <th>URL</th>\n",
       "    </tr>\n",
       "  </thead>\n",
       "  <tbody>\n",
       "    <tr>\n",
       "      <th>0</th>\n",
       "      <td>1</td>\n",
       "      <td>Stephen Collinson</td>\n",
       "      <td>April 29, 2024</td>\n",
       "      <td>https://edition.cnn.com/2024/04/28/politics/bi...</td>\n",
       "    </tr>\n",
       "    <tr>\n",
       "      <th>1</th>\n",
       "      <td>2</td>\n",
       "      <td>John Towfighi</td>\n",
       "      <td>April 28, 2024</td>\n",
       "      <td>https://edition.cnn.com/2023/10/11/business/ha...</td>\n",
       "    </tr>\n",
       "    <tr>\n",
       "      <th>2</th>\n",
       "      <td>3</td>\n",
       "      <td>Andrew Carey and Olga Voitovych</td>\n",
       "      <td>April 28, 2024</td>\n",
       "      <td>https://edition.cnn.com/2024/04/28/europe/russ...</td>\n",
       "    </tr>\n",
       "    <tr>\n",
       "      <th>3</th>\n",
       "      <td>4</td>\n",
       "      <td>Andrew Carey and Olga Voitovych</td>\n",
       "      <td>April 28, 2024</td>\n",
       "      <td>https://edition.cnn.com/2024/03/13/travel/aust...</td>\n",
       "    </tr>\n",
       "    <tr>\n",
       "      <th>4</th>\n",
       "      <td>5</td>\n",
       "      <td>Silvia Marchetti</td>\n",
       "      <td>April 28, 2024</td>\n",
       "      <td>https://edition.cnn.com/travel/italy-house-bou...</td>\n",
       "    </tr>\n",
       "  </tbody>\n",
       "</table>\n",
       "</div>"
      ],
      "text/plain": [
       "   Id                           Author            Date  \\\n",
       "0   1                Stephen Collinson  April 29, 2024   \n",
       "1   2                    John Towfighi  April 28, 2024   \n",
       "2   3  Andrew Carey and Olga Voitovych  April 28, 2024   \n",
       "3   4  Andrew Carey and Olga Voitovych  April 28, 2024   \n",
       "4   5                 Silvia Marchetti  April 28, 2024   \n",
       "\n",
       "                                                 URL  \n",
       "0  https://edition.cnn.com/2024/04/28/politics/bi...  \n",
       "1  https://edition.cnn.com/2023/10/11/business/ha...  \n",
       "2  https://edition.cnn.com/2024/04/28/europe/russ...  \n",
       "3  https://edition.cnn.com/2024/03/13/travel/aust...  \n",
       "4  https://edition.cnn.com/travel/italy-house-bou...  "
      ]
     },
     "execution_count": 26,
     "metadata": {},
     "output_type": "execute_result"
    }
   ],
   "source": [
    "data= obj.load()\n",
    "data.head()"
   ]
  },
  {
   "cell_type": "code",
   "execution_count": 27,
   "metadata": {},
   "outputs": [
    {
     "data": {
      "text/html": [
       "<div>\n",
       "<style scoped>\n",
       "    .dataframe tbody tr th:only-of-type {\n",
       "        vertical-align: middle;\n",
       "    }\n",
       "\n",
       "    .dataframe tbody tr th {\n",
       "        vertical-align: top;\n",
       "    }\n",
       "\n",
       "    .dataframe thead th {\n",
       "        text-align: right;\n",
       "    }\n",
       "</style>\n",
       "<table border=\"1\" class=\"dataframe\">\n",
       "  <thead>\n",
       "    <tr style=\"text-align: right;\">\n",
       "      <th></th>\n",
       "      <th>URL</th>\n",
       "    </tr>\n",
       "  </thead>\n",
       "  <tbody>\n",
       "    <tr>\n",
       "      <th>0</th>\n",
       "      <td>https://edition.cnn.com/2024/04/28/politics/bi...</td>\n",
       "    </tr>\n",
       "    <tr>\n",
       "      <th>1</th>\n",
       "      <td>https://edition.cnn.com/2023/10/11/business/ha...</td>\n",
       "    </tr>\n",
       "    <tr>\n",
       "      <th>2</th>\n",
       "      <td>https://edition.cnn.com/2024/04/28/europe/russ...</td>\n",
       "    </tr>\n",
       "    <tr>\n",
       "      <th>3</th>\n",
       "      <td>https://edition.cnn.com/2024/03/13/travel/aust...</td>\n",
       "    </tr>\n",
       "    <tr>\n",
       "      <th>4</th>\n",
       "      <td>https://edition.cnn.com/travel/italy-house-bou...</td>\n",
       "    </tr>\n",
       "  </tbody>\n",
       "</table>\n",
       "</div>"
      ],
      "text/plain": [
       "                                                 URL\n",
       "0  https://edition.cnn.com/2024/04/28/politics/bi...\n",
       "1  https://edition.cnn.com/2023/10/11/business/ha...\n",
       "2  https://edition.cnn.com/2024/04/28/europe/russ...\n",
       "3  https://edition.cnn.com/2024/03/13/travel/aust...\n",
       "4  https://edition.cnn.com/travel/italy-house-bou..."
      ]
     },
     "execution_count": 27,
     "metadata": {},
     "output_type": "execute_result"
    }
   ],
   "source": [
    "data= obj.drop()\n",
    "data.head()"
   ]
  },
  {
   "cell_type": "code",
   "execution_count": 28,
   "metadata": {},
   "outputs": [
    {
     "data": {
      "image/png": "[encoded data removed]",
      "text/plain": [
       "<Figure size 1200x600 with 1 Axes>"
      ]
     },
     "metadata": {},
     "output_type": "display_data"
    }
   ],
   "source": [
    "# sentiment_df = obj.sentiment_EDA()\n",
    "\n",
    "# # Plot the sentiment analysis\n",
    "# sentiment_df['Color'] = sentiment_df['Sentiment'].apply(lambda x: 1 if x == \"positive\" else (0 if x == \"negative\" else None))\n",
    "\n",
    "# sentiment_df['Color'] = sentiment_df['Sentiment'].map({1: 1, -1: 0})  # Map positive to 1, negative to 0\n",
    "# plt.figure(figsize=(12, 6))\n",
    "# plt.scatter(sentiment_df['Polarity'], sentiment_df['Subjectivity'], c=sentiment_df['Color'], alpha=0.7)\n",
    "# #....\n",
    "# plt.title('Sentiment Analysis: Polarity vs Subjectivity')\n",
    "# plt.xlabel('Polarity')\n",
    "# plt.ylabel('Subjectivity')\n",
    "# plt.grid(True)\n",
    "# plt.legend(['Positive', 'Negative'])\n",
    "\n",
    "# plt.show()\n",
    "# sentiment_df = obj.sentiment_EDA()\n",
    "\n",
    "# # Leverage a dictionary with map for color assignment\n",
    "# sentiment_to_color = {\"positive\": 1, \"negative\": 0}\n",
    "# sentiment_df['Color'] = sentiment_df['Sentiment'].map(sentiment_to_color)\n",
    "\n",
    "# plt.figure(figsize=(12, 6))\n",
    "# plt.scatter(sentiment_df['Polarity'], sentiment_df['Subjectivity'], c=sentiment_df['Color'], alpha=0.7)\n",
    "# # ... rest of your plotting code (title, labels, grid, legend)\n",
    "# plt.show()\n",
    "# Create an instance of Load_data\n",
    "\n",
    "# Call the sentiment_EDA method to generate sentiment data\n",
    "sentiment_df = obj.sentiment_EDA()\n",
    "\n",
    "# Plot the EDA\n",
    "plt.figure(figsize=(12, 6))\n",
    "plt.scatter(sentiment_df['Polarity'], sentiment_df['Subjectivity'], alpha=0.7)\n",
    "plt.title('Sentiment Analysis: Polarity vs Subjectivity')\n",
    "plt.xlabel('Polarity')\n",
    "plt.ylabel('Subjectivity')\n",
    "plt.grid(True)\n",
    "\n",
    "plt.show()\n"
   ]
  },
  {
   "cell_type": "code",
   "execution_count": 31,
   "metadata": {},
   "outputs": [
    {
     "data": {
      "text/plain": [
       "Text(0, 0.5, 'Frequency')"
      ]
     },
     "execution_count": 31,
     "metadata": {},
     "output_type": "execute_result"
    },
    {
     "data": {
      "image/png": "[encoded data removed]",
      "text/plain": [
       "<Figure size 640x480 with 1 Axes>"
      ]
     },
     "metadata": {},
     "output_type": "display_data"
    }
   ],
   "source": [
    "plt.subplot(1, 2, 1)\n",
    "plt.hist(sentiment_df['Polarity'], bins=20, color='skyblue', edgecolor='black')\n",
    "plt.title('Polarity Distribution')\n",
    "plt.xlabel('Polarity')\n",
    "plt.ylabel('Frequency')"
   ]
  },
  {
   "cell_type": "code",
   "execution_count": 32,
   "metadata": {},
   "outputs": [
    {
     "data": {
      "text/plain": [
       "Text(0, 0.5, 'Frequency')"
      ]
     },
     "execution_count": 32,
     "metadata": {},
     "output_type": "execute_result"
    },
    {
     "data": {
      "image/png": "[encoded data removed]",
      "text/plain": [
       "<Figure size 640x480 with 1 Axes>"
      ]
     },
     "metadata": {},
     "output_type": "display_data"
    }
   ],
   "source": [
    "plt.subplot(1, 2, 2)\n",
    "plt.hist(sentiment_df['Subjectivity'], bins=20, color='lightgreen', edgecolor='black')\n",
    "plt.title('Subjectivity Distribution')\n",
    "plt.xlabel('Subjectivity')\n",
    "plt.ylabel('Frequency')"
   ]
  },
  {
   "cell_type": "code",
   "execution_count": 29,
   "metadata": {},
   "outputs": [
    {
     "name": "stdout",
     "output_type": "stream",
     "text": [
      "Title: Biden is up against nostalgia for Trump’s first term\n",
      "Summary: More than half, 55%, of all Americans say they see Trump’s presidency as a success, while 44% see it as a failure.\n",
      "Four years ago, he was able to assail Trump’s time in office from his position as a challenger.\n",
      "Biden won all three in 2020 after Trump won them in 2016 in his victory over Democratic nominee Hillary Clinton.\n",
      "In the poll, 92% of Republicans view Trump’s time in office a success, while just 73% of Democrats say Biden’s has been a success.\n",
      "And while 85% of Democrats polled say they back Biden, 91% of Republicans say they support Trump.\n",
      "-----------------------------------------------\n",
      "Title: Harvard student groups issued an anti-Israel statement. CEOs want them blacklisted\n",
      "Summary: Following a backlash to the statement, some of the student groups have since withdrawn their endorsements.\n",
      "Others warn that naming the students whose groups backed the statement could put the students in harms way and did not account for differences of opinion within the student groups.\n",
      "Larry Summers, the famed economist who on Monday drew attention to the “morally unconscionable” Harvard student statement, is now preaching caution.\n",
      "But Harvard President Claudine Gay issued a statement Tuesday saying “no student group – not even 30 student groups – speaks for Harvard University or its leadership.”Harvard student groups’ statementThe controversy comes in response to a joint statement released by a coalition of Harvard student groups following the attacks by Hamas that have killed more than 1,000 Israelis and at least 14 American citizens.\n",
      "“We, the undersigned student organizations, hold the Israeli regime entirely responsible for all unfolding violence,” the statement from the Harvard Palestine Solidarity Groups said.\n",
      "-----------------------------------------------\n",
      "Title: Russia is making daily tactical gains in eastern Ukraine, as concerns swirl around Ukrainian military reporting\n",
      "Summary: Ukraine’s DeepState monitoring group, which updates daily changes in frontline positions, shows Russian forces pushing forward in eight different locations along 20-25 kms of frontline in one 24-hour period.\n",
      "“The withdrawal in the Donetsk operational zone continues,” the Ukrainian military blogger Myroshnykov wrote.\n",
      "Slightly further south, Russian forces are also making headway in the industrial town of Krasnohorivka, entering from the south and the east.\n",
      "Russian forces are also making headway west of Donetsk city, entering the industrial town of Krasnohorivka from the south and the east.\n",
      "“Without (its) manpower advantage, Russia’s artillery and airpower advantage would not be sufficient for Russia to make gains on the battlefield.\n",
      "-----------------------------------------------\n",
      "Title: Does the world want a Titanic II? This billionaire thinks so\n",
      "Summary: More than a century after the Titanic went down, the world remains drawn to its story.\n",
      "The tragedy inspired James Cameron’s Oscar-winning 1997 blockbuster “Titanic,” starring Leonardo DiCaprio and Kate Winslet, and has fascinated amateur explorers for decades.\n",
      "He first launched plans for Titanic II in 2012, and again in 2018, but plans were sidelined during the Covid epidemic.\n",
      "Of Titanic II, Clive Palmer says it'll be the \"ship of peace.\"\n",
      "It can be a ship of peace between all countries of the world.\n",
      "-----------------------------------------------\n",
      "Title: He visited Italy for the first time and bought a house within 24 hours\n",
      "Summary: “I had been to various countries in the European Union on several occasions but never Italy, though it was on my list.\n",
      "Millet says that he began planning to travel to Italy to buy a house back in 2019, but was thwarted by Covid-19.\n",
      "“The prices of the houses were super-attractive, especially coming from the Los Angeles area, and the Latronico properties were for the most part in good shape.\n",
      "“At the end of the day, I bought my place and began thinking about renovations and the future,” he adds.\n",
      "Sunset cocktailsThe house Millet bought has only one bedroom but came with two large basements.\n",
      "-----------------------------------------------\n",
      "Title: Mount Fuji: Japanese town putting up eight-foot barrier to block tourist photos\n",
      "Summary: CNN —A picturesque Japanese town is putting up a giant mesh barrier to block a popular selfie spot near Mount Fuji.\n",
      "Fujikawaguchiko, at the foot of the Yoshida Trail to Mount Fuji, has become overrun with foreign tourists trying to get the perfect photo of Japan’s most famous mountain.\n",
      "And now the town has had enough and is putting up the mesh barrier to block the view, a local official told CNN.\n",
      "The town of Fujikawaguchiko is in Yamanashi prefecture, to the north of Fuji and about 62 miles (100 kilometers) west of Tokyo.\n",
      "Many of them head straight to Mount Fuji, an icon of Japan and a UNESCO World Heritage site, leaving garbage and causing erosion along the way.\n",
      "-----------------------------------------------\n",
      "Title: Ancient DNA pulls back curtain on mysterious empire\n",
      "Summary: Editor’s note: A version of this story appeared in CNN’s Wonder Theory science newsletter.\n",
      "Analysis of ancient DNA recovered from human remains has illuminated the traits and ancestry of historic individuals — be it a mummified iceman, Chinese emperor or legendary composer.\n",
      "The origins of the empire and its people remained obscure until a landmark April 2022 study found they hailed from the Mongolian steppe.\n",
      "Carolyn Kaster/APNaturalists have spotted the first arrivals in this spring’s historic cicada dual emergence.\n",
      "Sign up here to receive in your inbox the next edition of Wonder Theory, brought to you by CNN Space and Science writers Ashley Strickland and Katie Hunt.\n",
      "-----------------------------------------------\n",
      "Title: Lionel Messi scores twice and breaks two Major League Soccer records in emphatic Inter Miami win\n",
      "Summary: CNN —Lionel Messi’s start to the new Major League Soccer season has been impressive, even by the Argentine great’s lofty standards.\n",
      "Inter Miami sits atop the MLS Eastern Conference after a brilliant start which has included six victories in 11 games.\n",
      "In front of 65,612 fans – a new attendance record for a Revolution home game – Messi set two MLS records.\n",
      "“People come to every stadium to see Leo, that’s true, but they also want their team to win,” Miami head coach Gerardo Martino said in Spanish postgame, per the MLS.\n",
      "He has also contributed significantly to the transformation of Miami’s fortunes, helping the team win its first trophy last August, as well as taking it to the top of the Eastern Conference standings this campaign.\n",
      "-----------------------------------------------\n",
      "Title: Emmanuel Wanyonyi: Teenager breaks road mile world record on competitive debut\n",
      "Summary: How relevant is this ad to you?\n",
      "Video player was slow to load content Video content never loaded Ad froze or did not finish loading Video content did not start after ad Audio on ad was too loud Other issues\n",
      "-----------------------------------------------\n",
      "Title: What it’s really like to live in Macao\n",
      "Summary: Macao, the Chinese special administrative region (SAR) often twinned with Hong Kong, is known as the Las Vegas of Asia.\n",
      "But travelers who are willing to dig in a little deeper can explore Macanese culture, which mixes Portuguese, Chinese and Southeast Asian heritages.\n",
      "Macao is comprised of two islands – the north one, Macao itself, and its southern neighbor Taipa.\n",
      "“In Asia, [people] think that Macao is full of casinos, and I think they do not understand the other parts of Macao,” says Lai.\n",
      "That means that they can live in Macao without a work visa and do not need a company sponsoring them.\n",
      "-----------------------------------------------\n",
      "Title: Joliet, Illinois shooting: Suspect in killings of 8 people in Chicago area has died in Texas, police say\n",
      "Summary: Authorities believe Nance is also linked to a Sunday shooting in Will County, Illinois, that left a 28-year-old dead, Joliet Police Chief Bill Evans said Monday.\n",
      "Police gather near the scene where eight people were found dead in Joliet, Illinois.\n",
      "Bakare was from Nigeria and had been living in Will County, which includes Joliet, for three years, Jungles said.\n",
      "He added robbery was not a motive as money was found in the area near where Bakare was located.\n",
      "At the second home, deputies saw blood on the door and entered to find two dead victims, he said.\n",
      "-----------------------------------------------\n"
     ]
    }
   ],
   "source": [
    "obj.analyze_data()"
   ]
  },
  {
   "cell_type": "code",
   "execution_count": 30,
   "metadata": {},
   "outputs": [
    {
     "name": "stdout",
     "output_type": "stream",
     "text": [
      "Sentiment(polarity=0.07583956138201421, subjectivity=0.3773878497463404)\n",
      "0.07583956138201421\n",
      "Polarity: positive\n",
      "Subjectivity: Unbiased And More Factual\n",
      "-----------------------------------------------\n",
      "Sentiment(polarity=-0.011835891381345926, subjectivity=0.45366366587957485)\n",
      "-0.011835891381345926\n",
      "Polarity: negative\n",
      "Subjectivity: Biased And Less Factual\n",
      "-----------------------------------------------\n",
      "Sentiment(polarity=0.013779170048701302, subjectivity=0.33360355790043283)\n",
      "0.013779170048701302\n",
      "Polarity: positive\n",
      "Subjectivity: Unbiased And More Factual\n",
      "-----------------------------------------------\n",
      "Sentiment(polarity=0.12777333777333774, subjectivity=0.4155550005550005)\n",
      "0.12777333777333774\n",
      "Polarity: positive\n",
      "Subjectivity: Biased And Less Factual\n",
      "-----------------------------------------------\n",
      "Sentiment(polarity=0.13391106791600213, subjectivity=0.4397304815067975)\n",
      "0.13391106791600213\n",
      "Polarity: positive\n",
      "Subjectivity: Biased And Less Factual\n",
      "-----------------------------------------------\n",
      "Sentiment(polarity=0.10609956709956711, subjectivity=0.3676612554112554)\n",
      "0.10609956709956711\n",
      "Polarity: positive\n",
      "Subjectivity: Unbiased And More Factual\n",
      "-----------------------------------------------\n",
      "Sentiment(polarity=0.1296292908968965, subjectivity=0.40277082072856707)\n",
      "0.1296292908968965\n",
      "Polarity: positive\n",
      "Subjectivity: Biased And Less Factual\n",
      "-----------------------------------------------\n",
      "Sentiment(polarity=0.2892721861471861, subjectivity=0.46880411255411264)\n",
      "0.2892721861471861\n",
      "Polarity: positive\n",
      "Subjectivity: Biased And Less Factual\n",
      "-----------------------------------------------\n",
      "Sentiment(polarity=0.018749999999999996, subjectivity=0.61875)\n",
      "0.018749999999999996\n",
      "Polarity: positive\n",
      "Subjectivity: Biased And Less Factual\n",
      "-----------------------------------------------\n",
      "Sentiment(polarity=0.1059047619047619, subjectivity=0.3873468131868132)\n",
      "0.1059047619047619\n",
      "Polarity: positive\n",
      "Subjectivity: Unbiased And More Factual\n",
      "-----------------------------------------------\n",
      "Sentiment(polarity=-0.01785714285714285, subjectivity=0.3651785714285715)\n",
      "-0.01785714285714285\n",
      "Polarity: negative\n",
      "Subjectivity: Unbiased And More Factual\n",
      "-----------------------------------------------\n"
     ]
    }
   ],
   "source": [
    "obj.sentiment()"
   ]
  },
  {
   "cell_type": "code",
   "execution_count": null,
   "metadata": {},
   "outputs": [],
   "source": []
  }
 ],
 "metadata": {
  "kernelspec": {
   "display_name": "Python 3",
   "language": "python",
   "name": "python3"
  },
  "language_info": {
   "codemirror_mode": {
    "name": "ipython",
    "version": 3
   },
   "file_extension": ".py",
   "mimetype": "text/x-python",
   "name": "python",
   "nbconvert_exporter": "python",
   "pygments_lexer": "ipython3",
   "version": "3.11.0"
  }
 },
 "nbformat": 4,
 "nbformat_minor": 2
}
